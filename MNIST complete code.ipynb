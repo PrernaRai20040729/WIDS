{
 "cells": [
  {
   "cell_type": "code",
   "execution_count": 1,
   "id": "b72a01b3",
   "metadata": {},
   "outputs": [
    {
     "name": "stdout",
     "output_type": "stream",
     "text": [
      "2.1.2+cpu\n"
     ]
    }
   ],
   "source": [
    "import torch\n",
    "print(torch.__version__)"
   ]
  },
  {
   "cell_type": "code",
   "execution_count": 2,
   "id": "c8b5a70e",
   "metadata": {},
   "outputs": [
    {
     "name": "stdout",
     "output_type": "stream",
     "text": [
      "tensor([[0.0457, 0.2452, 0.8639],\n",
      "        [0.1738, 0.4117, 0.7665],\n",
      "        [0.1930, 0.1025, 0.1050],\n",
      "        [0.1135, 0.7462, 0.2729],\n",
      "        [0.8511, 0.4759, 0.8148]])\n"
     ]
    }
   ],
   "source": [
    "import torch\n",
    "x = torch.rand(5, 3)\n",
    "print(x)\n"
   ]
  },
  {
   "cell_type": "code",
   "execution_count": 3,
   "id": "51de940b",
   "metadata": {},
   "outputs": [
    {
     "name": "stdout",
     "output_type": "stream",
     "text": [
      "tensor([10.,  3.])\n"
     ]
    }
   ],
   "source": [
    "import torch\n",
    "x = torch.Tensor([5, 3])\n",
    "y=torch.Tensor([2,1])\n",
    "print(x*y)\n"
   ]
  },
  {
   "cell_type": "code",
   "execution_count": 4,
   "id": "8e934930",
   "metadata": {},
   "outputs": [
    {
     "name": "stdout",
     "output_type": "stream",
     "text": [
      "Collecting torchvisionNote: you may need to restart the kernel to use updated packages.\n",
      "\n",
      "  Downloading torchvision-0.16.2-cp311-cp311-win_amd64.whl (1.1 MB)\n",
      "                                              0.0/1.1 MB ? eta -:--:--\n",
      "     -                                        0.0/1.1 MB 1.3 MB/s eta 0:00:01\n",
      "     ---                                      0.1/1.1 MB 1.3 MB/s eta 0:00:01\n",
      "     --------                                 0.2/1.1 MB 1.8 MB/s eta 0:00:01\n",
      "     -----------                              0.3/1.1 MB 1.9 MB/s eta 0:00:01\n",
      "     ----------------                         0.5/1.1 MB 2.0 MB/s eta 0:00:01\n",
      "     -----------------                        0.5/1.1 MB 2.1 MB/s eta 0:00:01\n",
      "     ---------------------                    0.6/1.1 MB 1.9 MB/s eta 0:00:01\n",
      "     -------------------------                0.7/1.1 MB 2.0 MB/s eta 0:00:01\n",
      "     ----------------------------------       1.0/1.1 MB 2.4 MB/s eta 0:00:01\n",
      "     -------------------------------------    1.1/1.1 MB 2.3 MB/s eta 0:00:01\n",
      "     ---------------------------------------- 1.1/1.1 MB 2.3 MB/s eta 0:00:00\n",
      "Requirement already satisfied: numpy in c:\\users\\pramo\\anaconda3\\lib\\site-packages (from torchvision) (1.24.3)\n",
      "Requirement already satisfied: requests in c:\\users\\pramo\\anaconda3\\lib\\site-packages (from torchvision) (2.29.0)\n",
      "Requirement already satisfied: torch==2.1.2 in c:\\users\\pramo\\anaconda3\\lib\\site-packages (from torchvision) (2.1.2)\n",
      "Requirement already satisfied: pillow!=8.3.*,>=5.3.0 in c:\\users\\pramo\\anaconda3\\lib\\site-packages (from torchvision) (9.4.0)\n",
      "Requirement already satisfied: filelock in c:\\users\\pramo\\anaconda3\\lib\\site-packages (from torch==2.1.2->torchvision) (3.9.0)\n",
      "Requirement already satisfied: typing-extensions in c:\\users\\pramo\\anaconda3\\lib\\site-packages (from torch==2.1.2->torchvision) (4.6.3)\n",
      "Requirement already satisfied: sympy in c:\\users\\pramo\\anaconda3\\lib\\site-packages (from torch==2.1.2->torchvision) (1.11.1)\n",
      "Requirement already satisfied: networkx in c:\\users\\pramo\\anaconda3\\lib\\site-packages (from torch==2.1.2->torchvision) (2.8.4)\n",
      "Requirement already satisfied: jinja2 in c:\\users\\pramo\\anaconda3\\lib\\site-packages (from torch==2.1.2->torchvision) (3.1.2)\n",
      "Requirement already satisfied: fsspec in c:\\users\\pramo\\anaconda3\\lib\\site-packages (from torch==2.1.2->torchvision) (2023.3.0)\n",
      "Requirement already satisfied: charset-normalizer<4,>=2 in c:\\users\\pramo\\anaconda3\\lib\\site-packages (from requests->torchvision) (2.0.4)\n",
      "Requirement already satisfied: idna<4,>=2.5 in c:\\users\\pramo\\anaconda3\\lib\\site-packages (from requests->torchvision) (3.4)\n",
      "Requirement already satisfied: urllib3<1.27,>=1.21.1 in c:\\users\\pramo\\anaconda3\\lib\\site-packages (from requests->torchvision) (1.26.16)\n",
      "Requirement already satisfied: certifi>=2017.4.17 in c:\\users\\pramo\\anaconda3\\lib\\site-packages (from requests->torchvision) (2023.5.7)\n",
      "Requirement already satisfied: MarkupSafe>=2.0 in c:\\users\\pramo\\anaconda3\\lib\\site-packages (from jinja2->torch==2.1.2->torchvision) (2.1.1)\n",
      "Requirement already satisfied: mpmath>=0.19 in c:\\users\\pramo\\anaconda3\\lib\\site-packages (from sympy->torch==2.1.2->torchvision) (1.2.1)\n",
      "Installing collected packages: torchvision\n",
      "Successfully installed torchvision-0.16.2\n"
     ]
    }
   ],
   "source": [
    "pip install torchvision"
   ]
  },
  {
   "cell_type": "code",
   "execution_count": 5,
   "id": "4bae318c",
   "metadata": {},
   "outputs": [],
   "source": [
    "import torch\n",
    "import torchvision\n",
    "from torchvision import transforms, datasets"
   ]
  },
  {
   "cell_type": "code",
   "execution_count": 7,
   "id": "b837274b",
   "metadata": {},
   "outputs": [
    {
     "name": "stdout",
     "output_type": "stream",
     "text": [
      "Downloading http://yann.lecun.com/exdb/mnist/train-images-idx3-ubyte.gz\n",
      "Downloading http://yann.lecun.com/exdb/mnist/train-images-idx3-ubyte.gz to MNIST\\raw\\train-images-idx3-ubyte.gz\n"
     ]
    },
    {
     "name": "stderr",
     "output_type": "stream",
     "text": [
      "100%|██████████| 9912422/9912422 [00:08<00:00, 1212714.48it/s]\n"
     ]
    },
    {
     "name": "stdout",
     "output_type": "stream",
     "text": [
      "Extracting MNIST\\raw\\train-images-idx3-ubyte.gz to MNIST\\raw\n",
      "\n",
      "Downloading http://yann.lecun.com/exdb/mnist/train-labels-idx1-ubyte.gz\n",
      "Downloading http://yann.lecun.com/exdb/mnist/train-labels-idx1-ubyte.gz to MNIST\\raw\\train-labels-idx1-ubyte.gz\n"
     ]
    },
    {
     "name": "stderr",
     "output_type": "stream",
     "text": [
      "100%|██████████| 28881/28881 [00:00<00:00, 129730.33it/s]\n"
     ]
    },
    {
     "name": "stdout",
     "output_type": "stream",
     "text": [
      "Extracting MNIST\\raw\\train-labels-idx1-ubyte.gz to MNIST\\raw\n",
      "\n",
      "Downloading http://yann.lecun.com/exdb/mnist/t10k-images-idx3-ubyte.gz\n",
      "Downloading http://yann.lecun.com/exdb/mnist/t10k-images-idx3-ubyte.gz to MNIST\\raw\\t10k-images-idx3-ubyte.gz\n"
     ]
    },
    {
     "name": "stderr",
     "output_type": "stream",
     "text": [
      "100%|██████████| 1648877/1648877 [00:01<00:00, 1026488.66it/s]\n"
     ]
    },
    {
     "name": "stdout",
     "output_type": "stream",
     "text": [
      "Extracting MNIST\\raw\\t10k-images-idx3-ubyte.gz to MNIST\\raw\n",
      "\n",
      "Downloading http://yann.lecun.com/exdb/mnist/t10k-labels-idx1-ubyte.gz\n",
      "Downloading http://yann.lecun.com/exdb/mnist/t10k-labels-idx1-ubyte.gz to MNIST\\raw\\t10k-labels-idx1-ubyte.gz\n"
     ]
    },
    {
     "name": "stderr",
     "output_type": "stream",
     "text": [
      "100%|██████████| 4542/4542 [00:00<?, ?it/s]"
     ]
    },
    {
     "name": "stdout",
     "output_type": "stream",
     "text": [
      "Extracting MNIST\\raw\\t10k-labels-idx1-ubyte.gz to MNIST\\raw\n",
      "\n"
     ]
    },
    {
     "name": "stderr",
     "output_type": "stream",
     "text": [
      "\n"
     ]
    }
   ],
   "source": [
    "train=datasets.MNIST(\"\",train=True,download=True,transform =transforms.Compose([transforms.ToTensor()]))\n",
    "test=datasets.MNIST(\"\",train=False,download=True,transform=transforms.Compose([transforms.ToTensor()]))"
   ]
  },
  {
   "cell_type": "code",
   "execution_count": 8,
   "id": "79c3527d",
   "metadata": {},
   "outputs": [],
   "source": [
    "trainset=torch.utils.data.DataLoader(train,batch_size=10,shuffle=True)\n",
    "testset=torch.utils.data.DataLoader(test,batch_size=10,shuffle=True)"
   ]
  },
  {
   "cell_type": "code",
   "execution_count": 9,
   "id": "8ccd1e37",
   "metadata": {},
   "outputs": [
    {
     "name": "stdout",
     "output_type": "stream",
     "text": [
      "[tensor([[[[0., 0., 0.,  ..., 0., 0., 0.],\n",
      "          [0., 0., 0.,  ..., 0., 0., 0.],\n",
      "          [0., 0., 0.,  ..., 0., 0., 0.],\n",
      "          ...,\n",
      "          [0., 0., 0.,  ..., 0., 0., 0.],\n",
      "          [0., 0., 0.,  ..., 0., 0., 0.],\n",
      "          [0., 0., 0.,  ..., 0., 0., 0.]]],\n",
      "\n",
      "\n",
      "        [[[0., 0., 0.,  ..., 0., 0., 0.],\n",
      "          [0., 0., 0.,  ..., 0., 0., 0.],\n",
      "          [0., 0., 0.,  ..., 0., 0., 0.],\n",
      "          ...,\n",
      "          [0., 0., 0.,  ..., 0., 0., 0.],\n",
      "          [0., 0., 0.,  ..., 0., 0., 0.],\n",
      "          [0., 0., 0.,  ..., 0., 0., 0.]]],\n",
      "\n",
      "\n",
      "        [[[0., 0., 0.,  ..., 0., 0., 0.],\n",
      "          [0., 0., 0.,  ..., 0., 0., 0.],\n",
      "          [0., 0., 0.,  ..., 0., 0., 0.],\n",
      "          ...,\n",
      "          [0., 0., 0.,  ..., 0., 0., 0.],\n",
      "          [0., 0., 0.,  ..., 0., 0., 0.],\n",
      "          [0., 0., 0.,  ..., 0., 0., 0.]]],\n",
      "\n",
      "\n",
      "        ...,\n",
      "\n",
      "\n",
      "        [[[0., 0., 0.,  ..., 0., 0., 0.],\n",
      "          [0., 0., 0.,  ..., 0., 0., 0.],\n",
      "          [0., 0., 0.,  ..., 0., 0., 0.],\n",
      "          ...,\n",
      "          [0., 0., 0.,  ..., 0., 0., 0.],\n",
      "          [0., 0., 0.,  ..., 0., 0., 0.],\n",
      "          [0., 0., 0.,  ..., 0., 0., 0.]]],\n",
      "\n",
      "\n",
      "        [[[0., 0., 0.,  ..., 0., 0., 0.],\n",
      "          [0., 0., 0.,  ..., 0., 0., 0.],\n",
      "          [0., 0., 0.,  ..., 0., 0., 0.],\n",
      "          ...,\n",
      "          [0., 0., 0.,  ..., 0., 0., 0.],\n",
      "          [0., 0., 0.,  ..., 0., 0., 0.],\n",
      "          [0., 0., 0.,  ..., 0., 0., 0.]]],\n",
      "\n",
      "\n",
      "        [[[0., 0., 0.,  ..., 0., 0., 0.],\n",
      "          [0., 0., 0.,  ..., 0., 0., 0.],\n",
      "          [0., 0., 0.,  ..., 0., 0., 0.],\n",
      "          ...,\n",
      "          [0., 0., 0.,  ..., 0., 0., 0.],\n",
      "          [0., 0., 0.,  ..., 0., 0., 0.],\n",
      "          [0., 0., 0.,  ..., 0., 0., 0.]]]]), tensor([6, 9, 8, 4, 7, 0, 7, 3, 1, 2])]\n"
     ]
    }
   ],
   "source": [
    "for data in trainset:\n",
    "    print(data)\n",
    "    break"
   ]
  },
  {
   "cell_type": "code",
   "execution_count": 12,
   "id": "6cf7f12f",
   "metadata": {},
   "outputs": [
    {
     "name": "stdout",
     "output_type": "stream",
     "text": [
      "tensor(9)\n"
     ]
    }
   ],
   "source": [
    "x,y=data[0][0],data[1][1]\n",
    "print(y)"
   ]
  },
  {
   "cell_type": "code",
   "execution_count": 13,
   "id": "655508a5",
   "metadata": {},
   "outputs": [
    {
     "data": {
      "image/png": "[encoded data removed]",
      "text/plain": [
       "<Figure size 640x480 with 1 Axes>"
      ]
     },
     "metadata": {},
     "output_type": "display_data"
    }
   ],
   "source": [
    "import matplotlib.pyplot as plt\n",
    "plt.imshow(data[0][0].view(28,28))\n",
    "plt.show()"
   ]
  },
  {
   "cell_type": "code",
   "execution_count": 14,
   "id": "fcdd62ef",
   "metadata": {},
   "outputs": [
    {
     "name": "stdout",
     "output_type": "stream",
     "text": [
      "{0: 5923, 1: 6742, 2: 5958, 3: 6131, 4: 5842, 5: 5421, 6: 5918, 7: 6265, 8: 5851, 9: 5949}\n",
      "0: 9.871666666666666%\n",
      "1: 11.236666666666666%\n",
      "2: 9.93%\n",
      "3: 10.218333333333334%\n",
      "4: 9.736666666666666%\n",
      "5: 9.035%\n",
      "6: 9.863333333333333%\n",
      "7: 10.441666666666666%\n",
      "8: 9.751666666666667%\n",
      "9: 9.915000000000001%\n"
     ]
    }
   ],
   "source": [
    "total = 0\n",
    "counter_dict = {0:0, 1:0, 2:0, 3:0, 4:0, 5:0, 6:0, 7:0, 8:0, 9:0}\n",
    "\n",
    "\n",
    "for data in trainset:\n",
    "    Xs, ys = data\n",
    "    for y in ys:\n",
    "        counter_dict[int(y)] += 1\n",
    "        total += 1\n",
    "\n",
    "print(counter_dict)\n",
    "\n",
    "for i in counter_dict:\n",
    "    print(f\"{i}: {counter_dict[i]/total*100.0}%\")"
   ]
  },
  {
   "cell_type": "code",
   "execution_count": 1,
   "id": "4aef5642",
   "metadata": {},
   "outputs": [],
   "source": [
    "import torch\n",
    "import torchvision\n",
    "from torchvision import transforms, datasets\n",
    "\n",
    "train = datasets.MNIST('', train=True, download=True,\n",
    "                       transform=transforms.Compose([\n",
    "                           transforms.ToTensor()\n",
    "                       ]))\n",
    "\n",
    "test = datasets.MNIST('', train=False, download=True,\n",
    "                       transform=transforms.Compose([\n",
    "                           transforms.ToTensor()\n",
    "                       ]))\n",
    "\n",
    "\n",
    "trainset = torch.utils.data.DataLoader(train, batch_size=10, shuffle=True)\n",
    "testset = torch.utils.data.DataLoader(test, batch_size=10, shuffle=False)"
   ]
  },
  {
   "cell_type": "code",
   "execution_count": 2,
   "id": "afee267a",
   "metadata": {},
   "outputs": [],
   "source": [
    "import torch.nn as nn\n",
    "import torch.nn.functional as F"
   ]
  },
  {
   "cell_type": "code",
   "execution_count": 3,
   "id": "659fd6a1",
   "metadata": {},
   "outputs": [
    {
     "name": "stdout",
     "output_type": "stream",
     "text": [
      "Net(\n",
      "  (fc1): Linear(in_features=784, out_features=64, bias=True)\n",
      "  (fc2): Linear(in_features=64, out_features=64, bias=True)\n",
      "  (fc3): Linear(in_features=64, out_features=64, bias=True)\n",
      "  (fc4): Linear(in_features=64, out_features=10, bias=True)\n",
      ")\n"
     ]
    }
   ],
   "source": [
    "class Net(nn.Module):\n",
    "    def __init__(self):\n",
    "        super().__init__()\n",
    "        self.fc1 = nn.Linear(28*28, 64)\n",
    "        self.fc2 = nn.Linear(64, 64)\n",
    "        self.fc3 = nn.Linear(64, 64)\n",
    "        self.fc4 = nn.Linear(64, 10)\n",
    "\n",
    "net = Net()\n",
    "print(net)"
   ]
  },
  {
   "cell_type": "code",
   "execution_count": 4,
   "id": "4ed6d1a0",
   "metadata": {},
   "outputs": [
    {
     "name": "stdout",
     "output_type": "stream",
     "text": [
      "Net(\n",
      "  (fc1): Linear(in_features=784, out_features=64, bias=True)\n",
      "  (fc2): Linear(in_features=64, out_features=64, bias=True)\n",
      "  (fc3): Linear(in_features=64, out_features=64, bias=True)\n",
      "  (fc4): Linear(in_features=64, out_features=10, bias=True)\n",
      ")\n"
     ]
    }
   ],
   "source": [
    "class Net(nn.Module):\n",
    "    def __init__(self):\n",
    "        super().__init__()\n",
    "        self.fc1 = nn.Linear(28*28, 64)\n",
    "        self.fc2 = nn.Linear(64, 64)\n",
    "        self.fc3 = nn.Linear(64, 64)\n",
    "        self.fc4 = nn.Linear(64, 10)\n",
    "\n",
    "    def forward(self, x):\n",
    "        x = self.fc1(x)\n",
    "        x = self.fc2(x)\n",
    "        x = self.fc3(x)\n",
    "        x = self.fc4(x)\n",
    "        return x\n",
    "\n",
    "net = Net()\n",
    "print(net)"
   ]
  },
  {
   "cell_type": "code",
   "execution_count": 5,
   "id": "97787df6",
   "metadata": {},
   "outputs": [
    {
     "name": "stdout",
     "output_type": "stream",
     "text": [
      "Net(\n",
      "  (fc1): Linear(in_features=784, out_features=64, bias=True)\n",
      "  (fc2): Linear(in_features=64, out_features=64, bias=True)\n",
      "  (fc3): Linear(in_features=64, out_features=64, bias=True)\n",
      "  (fc4): Linear(in_features=64, out_features=10, bias=True)\n",
      ")\n"
     ]
    }
   ],
   "source": [
    "class Net(nn.Module):\n",
    "    def __init__(self):\n",
    "        super().__init__()\n",
    "        self.fc1 = nn.Linear(28*28, 64)\n",
    "        self.fc2 = nn.Linear(64, 64)\n",
    "        self.fc3 = nn.Linear(64, 64)\n",
    "        self.fc4 = nn.Linear(64, 10)\n",
    "\n",
    "    def forward(self, x):\n",
    "        x = F.relu(self.fc1(x))\n",
    "        x = F.relu(self.fc2(x))\n",
    "        x = F.relu(self.fc3(x))\n",
    "        x = self.fc4(x)\n",
    "        return F.log_softmax(x, dim=1)\n",
    "\n",
    "net = Net()\n",
    "print(net)"
   ]
  },
  {
   "cell_type": "code",
   "execution_count": 6,
   "id": "051137fd",
   "metadata": {},
   "outputs": [],
   "source": [
    "X = torch.randn((28,28))\n"
   ]
  },
  {
   "cell_type": "code",
   "execution_count": 7,
   "id": "fd02d130",
   "metadata": {},
   "outputs": [
    {
     "data": {
      "text/plain": [
       "tensor([[-1.8075,  0.5165,  0.0042,  0.1891, -0.8885, -0.5352, -1.8406,  0.4195,\n",
       "          1.4544, -0.4165, -0.0461,  1.3732, -0.7892,  0.4931,  0.8510, -1.1944,\n",
       "          1.5002, -0.2093,  0.0812, -0.3057,  1.0035,  1.0439,  1.3102,  0.7363,\n",
       "         -0.2833, -0.8446, -0.1445, -0.3045],\n",
       "        [ 0.7188, -0.1467, -1.7177,  1.9898,  0.0511, -0.6676,  0.7498,  0.2741,\n",
       "         -0.9471, -2.1213, -0.4918, -1.4893,  1.1345,  1.0488,  1.3186, -1.4632,\n",
       "         -0.0133, -0.6523,  1.2787,  1.5791,  0.9612,  0.8436,  1.5677,  0.9349,\n",
       "          0.1462, -1.1943, -0.5591,  2.0083],\n",
       "        [-1.3057,  1.0608, -0.0462, -0.3652,  1.1289, -1.1826,  1.4318, -1.7122,\n",
       "          0.4328,  0.1626, -0.0633,  1.1552, -0.9433,  2.4174, -0.0763, -0.0684,\n",
       "          0.2370,  0.4035, -0.6185,  0.0883,  1.9824,  1.6179, -0.1593,  0.5069,\n",
       "         -1.8211, -1.4656,  0.1235,  0.2845],\n",
       "        [ 0.9722,  1.5350,  0.9537, -0.8338,  0.5669, -0.7952,  0.7788, -0.3749,\n",
       "          1.3226, -0.3949,  1.6706,  1.0100, -0.4760,  0.0044,  0.5682, -0.2119,\n",
       "         -0.5473,  0.7960,  0.8262, -0.6307,  0.3046, -0.2950, -1.5004,  0.0048,\n",
       "          0.9850, -0.5671, -0.1652, -0.4398],\n",
       "        [ 0.2173, -1.6457, -0.6150,  2.1595, -0.1698,  0.5744,  0.4099,  1.2964,\n",
       "         -0.1647, -0.0308, -0.8835, -0.0793, -1.8112, -0.1094, -0.1105,  0.0063,\n",
       "          0.9387, -0.2189,  1.3333, -0.5048, -1.5963,  1.2591, -2.0818, -0.2215,\n",
       "          1.0747, -1.0741,  0.0374, -0.5468],\n",
       "        [-0.8907, -1.3125, -1.9362, -0.3739,  1.4120,  0.8959,  2.2296, -0.5364,\n",
       "          0.8757, -0.2131, -0.2883,  0.8754, -0.3332,  0.6464,  0.1452, -0.1279,\n",
       "         -0.4817,  0.8525,  0.9740,  0.0219,  0.4839,  0.1787, -1.3102, -0.8236,\n",
       "          1.2559, -0.8583,  1.2043,  0.0421],\n",
       "        [ 0.9819,  0.4320,  0.6226, -0.8808, -1.9462,  0.5496, -1.2522,  0.5799,\n",
       "          0.9600,  0.8292, -1.0995, -1.1282,  0.3336, -0.6615,  0.0955,  0.8933,\n",
       "         -0.5234,  0.1517, -0.4159,  0.8288,  2.1617, -0.0793,  1.1397,  0.8157,\n",
       "         -1.5586, -0.7540, -0.3762, -0.7551],\n",
       "        [ 1.2401, -0.5856, -0.6017,  0.8676, -0.8783,  1.2540,  1.7718, -0.1492,\n",
       "          0.0438,  0.3352,  0.1739,  0.4936, -0.2257, -0.4999,  1.0464,  1.0473,\n",
       "          1.2058,  0.8291,  0.2552,  0.8431,  0.5488, -0.3835,  0.3627, -0.9528,\n",
       "         -0.5821, -1.0462,  2.7880,  0.6894],\n",
       "        [ 0.6437, -0.7862, -1.0776,  0.1903,  1.4448, -0.0343, -2.2680, -0.5813,\n",
       "         -0.5655,  0.7569, -1.3786,  0.5607,  0.0945, -1.1716,  0.7788, -1.8043,\n",
       "         -1.1352, -0.1475, -0.0993, -0.9919,  0.2652, -0.6173, -1.0926, -1.4645,\n",
       "          0.3252,  0.5375,  0.7001, -0.5929],\n",
       "        [ 1.1727, -0.5533, -0.0656,  1.3720, -0.5463,  0.7151,  0.6338, -0.6433,\n",
       "          0.5059,  0.1391, -0.2630, -0.6086, -0.3159, -0.0513,  0.7010, -0.6616,\n",
       "          0.4771, -1.0687, -0.9138, -1.1422, -0.4601,  1.7372,  0.0254,  1.7510,\n",
       "          0.2751,  1.8071,  2.0121,  1.4951],\n",
       "        [-0.6346, -1.7212,  2.0849, -0.9516,  1.1983, -0.3429,  1.5629, -0.8926,\n",
       "          1.4283,  0.0996, -1.0695,  0.5745,  0.2525,  0.7072,  0.6153,  0.1219,\n",
       "         -0.6360,  1.1683, -0.5531, -1.2812,  0.0964, -0.1766, -0.5783, -0.4062,\n",
       "         -0.6936,  1.4694, -1.4952, -0.5813],\n",
       "        [ 0.5476,  0.6245,  1.0375,  0.3678,  0.6287,  0.5196,  1.6276,  1.1529,\n",
       "         -0.5438, -1.5433,  0.5989, -1.1379,  2.1442, -0.4614,  0.3894,  1.1617,\n",
       "          0.2000, -0.0470, -0.6334,  1.0538,  1.0155, -0.1067,  0.5860, -0.4641,\n",
       "         -0.3145, -0.2431, -1.1411, -0.0709],\n",
       "        [ 0.6272, -1.5650,  1.5684, -1.1764,  0.4730,  0.2851, -1.1070, -1.0695,\n",
       "         -0.8892,  0.5437, -0.7580,  3.0322, -1.4456,  1.6622,  0.1695, -0.9504,\n",
       "          0.8544, -0.8828,  0.3444,  2.0103, -0.4044,  0.3203, -0.8211, -0.4341,\n",
       "          0.3679, -1.0547, -1.2368,  0.3790],\n",
       "        [-1.7150, -1.3181,  0.0604, -1.0916,  0.4488,  0.9232, -0.6732, -0.9082,\n",
       "          2.7585,  0.2505, -1.2186, -0.1353,  0.1539, -0.3470, -0.5600,  0.7337,\n",
       "         -0.6577, -0.0437, -1.5173, -0.0450, -1.4379, -0.2969, -0.3044,  0.5176,\n",
       "          0.3963,  0.2051, -0.0178,  1.3007],\n",
       "        [-0.1066,  0.1845, -0.3389,  0.9830, -0.4785,  0.3573,  0.6726,  0.7045,\n",
       "         -0.7432,  1.0285, -1.2932,  0.2609,  1.7688, -0.7076, -0.3214,  0.2156,\n",
       "         -1.5850,  1.0777,  0.9335, -2.0851,  0.8169,  2.1450, -0.1395,  1.0703,\n",
       "          0.2376,  0.9585,  0.8188,  1.3804],\n",
       "        [-0.1713, -0.2740,  1.0353, -1.0078,  0.0119,  1.7607, -2.1130,  1.4422,\n",
       "          0.9281, -0.4340, -0.5054,  0.2951,  1.6565,  1.2722,  0.1987, -0.5179,\n",
       "          1.3898,  0.6593,  0.9176,  1.0658, -0.0655, -0.8828, -0.8230,  1.2700,\n",
       "         -0.6067, -0.5503, -0.2830, -1.2579],\n",
       "        [-0.0231,  0.7619,  0.7283, -0.0039,  0.4339,  0.9859,  0.2353, -0.1769,\n",
       "         -1.8647,  2.4121,  0.3360, -0.8287, -1.0695,  0.6086,  0.5515,  0.9950,\n",
       "         -1.9238,  0.8245, -1.2801, -0.2572, -0.1745, -0.3200, -0.6840, -0.9336,\n",
       "          0.0129, -1.1175, -0.2836, -0.4957],\n",
       "        [-0.3821, -0.1732,  0.3443,  0.2556, -0.9923, -1.6517, -1.3778,  0.7496,\n",
       "         -0.1443, -1.6502,  0.8821, -0.3216, -0.8498,  1.1465, -0.0667,  0.9250,\n",
       "         -0.7647,  1.0209, -1.1335, -0.8691, -0.4594, -1.3470,  0.7536, -1.3038,\n",
       "          2.3030, -0.5221,  2.6381, -0.5580],\n",
       "        [ 0.6546, -0.1873, -2.1423, -0.3935, -1.1563, -2.6784,  1.5235,  0.8121,\n",
       "          1.8342,  0.4558,  0.2568,  0.8123,  1.1829,  0.8178, -0.0171, -1.1543,\n",
       "         -0.4343,  0.6753, -0.9222,  0.0260,  0.1809,  1.8185,  1.3247, -0.7758,\n",
       "         -0.0180,  0.6773, -0.1223, -0.5269],\n",
       "        [ 1.1106,  0.2300, -0.0327,  1.3569,  0.2059,  0.4898,  0.7820,  1.0574,\n",
       "         -1.9849, -0.9408,  0.2436, -0.5871,  0.3657, -1.5612,  0.4496,  0.8799,\n",
       "         -0.7297, -1.6761,  0.3684,  0.6163,  0.9596,  0.7979,  0.2968, -0.8978,\n",
       "         -0.4027, -0.0877, -1.8398, -0.7874],\n",
       "        [ 0.3804,  0.0125, -0.7363, -0.4158, -0.2200, -1.5491, -1.7249, -0.9913,\n",
       "          0.5511, -1.5623,  2.0337,  0.8920,  0.0106, -2.6861, -0.2005,  0.7173,\n",
       "          0.3048,  0.0186, -1.0169, -0.0491,  0.0206, -1.1337, -1.4544,  2.1246,\n",
       "         -0.2871, -0.1077, -0.2758,  0.4046],\n",
       "        [-0.3174,  1.3081, -0.6860,  0.4420, -0.3947, -0.4459,  1.9328, -0.0369,\n",
       "          0.1882, -1.7040, -0.2257,  0.7614, -0.5910,  0.9558,  0.8887,  1.3465,\n",
       "         -0.9919,  0.2127, -0.8975,  1.1091,  0.0111,  1.0524, -0.0226,  0.2045,\n",
       "         -1.1697, -1.4159,  1.5712,  1.2015],\n",
       "        [ 0.1283, -0.4544, -0.4142, -0.0881,  0.4252, -0.5741,  1.5544, -0.6491,\n",
       "         -0.5737,  0.0526,  0.8008,  1.4512, -1.5381, -0.2199, -0.2987, -1.1918,\n",
       "          0.4064, -0.6736,  0.2597,  0.0224, -0.4746, -0.1603, -0.5496, -0.0907,\n",
       "          0.0352, -0.1161,  0.1661,  1.6753],\n",
       "        [-0.4387,  0.3946,  0.1254,  1.1493,  0.9555, -0.1704, -1.7601,  0.3018,\n",
       "          0.2602, -0.3203,  0.7462,  0.6703, -0.6307,  0.1458, -0.5516,  0.2770,\n",
       "         -1.8427, -0.7423, -0.2953,  0.4920, -0.2196, -0.5715,  0.7794, -0.4997,\n",
       "         -1.7881, -0.0751, -0.7729,  0.0714],\n",
       "        [-0.6920,  0.6860,  0.6797, -0.4366, -0.1971,  0.7982, -0.0262, -0.3500,\n",
       "          2.4005, -0.3806,  1.3901, -1.3596, -1.3897,  1.3194, -1.8035, -0.7621,\n",
       "          1.1871,  0.4727,  0.8962,  1.4044, -0.1720, -1.3322,  0.4381, -0.7109,\n",
       "          0.5384, -1.8143,  0.3618, -0.3621],\n",
       "        [-0.9773,  0.1320, -0.1045,  0.0649, -0.3243, -0.9524,  0.0896, -0.2819,\n",
       "          1.3032, -0.4208,  1.5780,  2.0893,  1.1625,  0.8714, -0.6358,  0.7469,\n",
       "         -0.7676, -0.4911, -0.9064, -3.1433,  1.2097, -1.2327,  0.4539, -1.5486,\n",
       "          1.2884,  0.2566,  1.5798,  0.2535],\n",
       "        [ 0.3867,  1.2864,  0.8091, -0.1103, -0.7698, -0.4293,  0.7880,  0.5149,\n",
       "         -0.3759, -1.6516, -1.1941, -2.0281,  2.4820,  0.8699, -1.3194, -0.3738,\n",
       "         -0.2577,  0.6613,  1.2290, -0.3045,  0.1259, -0.5755,  1.0684,  1.3503,\n",
       "         -0.5544, -1.0394,  0.1241,  1.0783],\n",
       "        [ 0.0038, -1.2333,  0.3692, -0.9983,  0.1610,  0.9367,  0.0616, -0.0954,\n",
       "         -0.0218, -1.9622, -0.2646, -0.0090, -1.1412, -0.3880, -1.1587,  0.9517,\n",
       "         -1.5706, -0.9352,  1.1342, -0.6650, -0.6456,  1.6095,  0.0526,  0.6697,\n",
       "          0.0768, -0.5377,  0.4960, -1.8745]])"
      ]
     },
     "execution_count": 7,
     "metadata": {},
     "output_type": "execute_result"
    }
   ],
   "source": [
    "X"
   ]
  },
  {
   "cell_type": "code",
   "execution_count": 8,
   "id": "1c922cf3",
   "metadata": {},
   "outputs": [],
   "source": [
    "X = X.view(1,28*28)"
   ]
  },
  {
   "cell_type": "code",
   "execution_count": 9,
   "id": "e181182c",
   "metadata": {},
   "outputs": [],
   "source": [
    "output = net(X)"
   ]
  },
  {
   "cell_type": "code",
   "execution_count": 10,
   "id": "e2c6e474",
   "metadata": {},
   "outputs": [
    {
     "data": {
      "text/plain": [
       "tensor([[-2.3495, -2.2883, -2.3826, -2.2990, -2.3440, -2.2611, -2.3203, -2.2899,\n",
       "         -2.2901, -2.2117]], grad_fn=<LogSoftmaxBackward0>)"
      ]
     },
     "execution_count": 10,
     "metadata": {},
     "output_type": "execute_result"
    }
   ],
   "source": [
    "output"
   ]
  },
  {
   "cell_type": "code",
   "execution_count": 11,
   "id": "f290230f",
   "metadata": {},
   "outputs": [],
   "source": [
    "X = X.view(-1,28*28)"
   ]
  },
  {
   "cell_type": "code",
   "execution_count": 12,
   "id": "6a1d5f02",
   "metadata": {},
   "outputs": [],
   "source": [
    "o=net(X)"
   ]
  },
  {
   "cell_type": "code",
   "execution_count": 13,
   "id": "a53ebc8f",
   "metadata": {},
   "outputs": [
    {
     "data": {
      "text/plain": [
       "tensor([[-2.3495, -2.2883, -2.3826, -2.2990, -2.3440, -2.2611, -2.3203, -2.2899,\n",
       "         -2.2901, -2.2117]], grad_fn=<LogSoftmaxBackward0>)"
      ]
     },
     "execution_count": 13,
     "metadata": {},
     "output_type": "execute_result"
    }
   ],
   "source": [
    "o"
   ]
  },
  {
   "cell_type": "code",
   "execution_count": 15,
   "id": "9278b4d9",
   "metadata": {},
   "outputs": [
    {
     "name": "stdout",
     "output_type": "stream",
     "text": [
      "tensor([0, 6, 8, 1, 9, 7, 0, 3, 6, 5])\n",
      "tensor([3, 0, 0, 8, 7, 3, 5, 4, 7, 7])\n",
      "tensor([3, 8, 8, 5, 8, 9, 0, 4, 5, 6])\n"
     ]
    }
   ],
   "source": [
    "import torch.optim as optim\n",
    "\n",
    "loss_function = nn.CrossEntropyLoss()\n",
    "optimizer = optim.Adam(net.parameters(), lr=0.001)\n",
    "EPOCHS=3\n",
    "for epoch in range(EPOCHS): \n",
    "    for data in trainset:  \n",
    "        X, y = data  \n",
    "        print(y)\n",
    "        break"
   ]
  },
  {
   "cell_type": "code",
   "execution_count": 16,
   "id": "d7aead16",
   "metadata": {},
   "outputs": [
    {
     "name": "stdout",
     "output_type": "stream",
     "text": [
      "tensor(0.0049, grad_fn=<NllLossBackward0>)\n",
      "tensor(0.0116, grad_fn=<NllLossBackward0>)\n",
      "tensor(0.2210, grad_fn=<NllLossBackward0>)\n"
     ]
    }
   ],
   "source": [
    "import torch.optim as optim\n",
    "\n",
    "loss_function = nn.CrossEntropyLoss()\n",
    "optimizer = optim.Adam(net.parameters(), lr=0.001)\n",
    "EPOCHS=3\n",
    "for epoch in range(EPOCHS):\n",
    "    for data in trainset:  \n",
    "        X, y = data \n",
    "        net.zero_grad() \n",
    "        output = net(X.view(-1,784)) \n",
    "        loss = F.nll_loss(output, y) \n",
    "        loss.backward() \n",
    "        optimizer.step() \n",
    "    print(loss)\n",
    "    "
   ]
  },
  {
   "cell_type": "code",
   "execution_count": 17,
   "id": "d892aabb",
   "metadata": {},
   "outputs": [
    {
     "name": "stdout",
     "output_type": "stream",
     "text": [
      "Accuracy:  0.973\n"
     ]
    }
   ],
   "source": [
    "correct = 0\n",
    "total = 0\n",
    "\n",
    "with torch.no_grad():\n",
    "    for data in testset:\n",
    "        X, y = data\n",
    "        output = net(X.view(-1,784))\n",
    "        \n",
    "        for idx, i in enumerate(output):\n",
    "            \n",
    "            if torch.argmax(i) == y[idx]:\n",
    "                correct += 1\n",
    "            total += 1\n",
    "\n",
    "print(\"Accuracy: \", round(correct/total, 3))"
   ]
  },
  {
   "cell_type": "code",
   "execution_count": 18,
   "id": "0f54980a",
   "metadata": {},
   "outputs": [
    {
     "data": {
      "image/png": "[encoded data removed]",
      "text/plain": [
       "<Figure size 640x480 with 1 Axes>"
      ]
     },
     "metadata": {},
     "output_type": "display_data"
    }
   ],
   "source": [
    "import matplotlib.pyplot as plt\n",
    "\n",
    "plt.imshow(X[0].view(28,28))\n",
    "plt.show()"
   ]
  },
  {
   "cell_type": "code",
   "execution_count": 19,
   "id": "679b9f69",
   "metadata": {},
   "outputs": [
    {
     "name": "stdout",
     "output_type": "stream",
     "text": [
      "tensor(7)\n"
     ]
    }
   ],
   "source": [
    "print(torch.argmax(net(X[0].view(-1,784))[0]))"
   ]
  },
  {
   "cell_type": "code",
   "execution_count": null,
   "id": "ba3cfcc7",
   "metadata": {},
   "outputs": [],
   "source": []
  }
 ],
 "metadata": {
  "kernelspec": {
   "display_name": "Python 3 (ipykernel)",
   "language": "python",
   "name": "python3"
  },
  "language_info": {
   "codemirror_mode": {
    "name": "ipython",
    "version": 3
   },
   "file_extension": ".py",
   "mimetype": "text/x-python",
   "name": "python",
   "nbconvert_exporter": "python",
   "pygments_lexer": "ipython3",
   "version": "3.11.3"
  }
 },
 "nbformat": 4,
 "nbformat_minor": 5
}
